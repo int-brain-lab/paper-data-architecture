{
 "cells": [
  {
   "cell_type": "markdown",
   "metadata": {},
   "source": [
    "# Random Forest Classifier\n",
    "Dec2020\n",
    "@author:Ines\n",
    "@editor:Ines"
   ]
  },
  {
   "cell_type": "code",
   "execution_count": 1,
   "metadata": {},
   "outputs": [
    {
     "name": "stdout",
     "output_type": "stream",
     "text": [
      "Connecting ines.laranjeira@datajoint.internationalbrainlab.org:3306\n"
     ]
    }
   ],
   "source": [
    "\"\"\"\n",
    "IMPORTS\n",
    "\"\"\"\n",
    "import pandas as pd \n",
    "import numpy as np\n",
    "import seaborn as sns\n",
    "import matplotlib.pyplot as plt\n",
    "from sklearn.inspection import permutation_importance\n",
    "from sklearn.model_selection import KFold\n",
    "from sklearn.ensemble import RandomForestClassifier\n",
    "from sklearn.metrics import f1_score, confusion_matrix\n",
    "from scipy import stats\n",
    "\n",
    "# --Get my functions\n",
    "from random_forest_functions import query_subjects, training_trials, design_matrix"
   ]
  },
  {
   "cell_type": "code",
   "execution_count": 2,
   "metadata": {},
   "outputs": [],
   "source": [
    "\"\"\"\n",
    "QUERY DATA WITH DATAJOINT\n",
    "\"\"\"\n",
    "\n",
    "subjects = query_subjects(as_dataframe=False, criterion='trained')\n",
    "trials = training_trials(subjects)  # Gets all trials for all mice for first 5 sessions, hard-coded"
   ]
  },
  {
   "cell_type": "code",
   "execution_count": null,
   "metadata": {},
   "outputs": [
    {
     "name": "stderr",
     "output_type": "stream",
     "text": [
      "/anaconda3/envs/iblenv/lib/python3.7/site-packages/numpy/lib/nanfunctions.py:1116: RuntimeWarning: All-NaN slice encountered\n",
      "  overwrite_input=overwrite_input)\n",
      "/anaconda3/envs/iblenv/lib/python3.7/site-packages/numpy/lib/nanfunctions.py:1116: RuntimeWarning: All-NaN slice encountered\n",
      "  overwrite_input=overwrite_input)\n",
      "/Users/ineslaranjeira/Documents/Repositories/paper-data-architecture/random_forest_functions.py:392: RuntimeWarning: Mean of empty slice\n",
      "  session, 'performance_easy']) - np.nanmean(\n",
      "/anaconda3/envs/iblenv/lib/python3.7/site-packages/numpy/lib/nanfunctions.py:1113: RuntimeWarning: Mean of empty slice\n",
      "  return np.nanmean(a, axis, out=out, keepdims=keepdims)\n",
      "/anaconda3/envs/iblenv/lib/python3.7/site-packages/numpy/lib/nanfunctions.py:1116: RuntimeWarning: All-NaN slice encountered\n",
      "  overwrite_input=overwrite_input)\n",
      "/anaconda3/envs/iblenv/lib/python3.7/site-packages/numpy/lib/nanfunctions.py:1116: RuntimeWarning: All-NaN slice encountered\n",
      "  overwrite_input=overwrite_input)\n",
      "/anaconda3/envs/iblenv/lib/python3.7/site-packages/numpy/lib/nanfunctions.py:1116: RuntimeWarning: All-NaN slice encountered\n",
      "  overwrite_input=overwrite_input)\n",
      "/Users/ineslaranjeira/Documents/Repositories/paper-data-architecture/random_forest_functions.py:392: RuntimeWarning: Mean of empty slice\n",
      "  session, 'performance_easy']) - np.nanmean(\n",
      "/anaconda3/envs/iblenv/lib/python3.7/site-packages/numpy/lib/nanfunctions.py:1113: RuntimeWarning: Mean of empty slice\n",
      "  return np.nanmean(a, axis, out=out, keepdims=keepdims)\n",
      "/Users/ineslaranjeira/Documents/Repositories/paper-data-architecture/random_forest_functions.py:383: RuntimeWarning: Mean of empty slice\n",
      "  'performance_easy'])\n",
      "/anaconda3/envs/iblenv/lib/python3.7/site-packages/numpy/lib/nanfunctions.py:1113: RuntimeWarning: Mean of empty slice\n",
      "  return np.nanmean(a, axis, out=out, keepdims=keepdims)\n",
      "/Users/ineslaranjeira/Documents/Repositories/paper-data-architecture/random_forest_functions.py:392: RuntimeWarning: Mean of empty slice\n",
      "  session, 'performance_easy']) - np.nanmean(\n",
      "/Users/ineslaranjeira/Documents/Repositories/paper-data-architecture/random_forest_functions.py:394: RuntimeWarning: Mean of empty slice\n",
      "  'performance_easy'])\n",
      "/anaconda3/envs/iblenv/lib/python3.7/site-packages/numpy/lib/nanfunctions.py:1113: RuntimeWarning: Mean of empty slice\n",
      "  return np.nanmean(a, axis, out=out, keepdims=keepdims)\n",
      "/anaconda3/envs/iblenv/lib/python3.7/site-packages/numpy/lib/nanfunctions.py:1113: RuntimeWarning: Mean of empty slice\n",
      "  return np.nanmean(a, axis, out=out, keepdims=keepdims)\n",
      "/Users/ineslaranjeira/Documents/Repositories/paper-data-architecture/random_forest_functions.py:383: RuntimeWarning: Mean of empty slice\n",
      "  'performance_easy'])\n",
      "/anaconda3/envs/iblenv/lib/python3.7/site-packages/numpy/lib/nanfunctions.py:1113: RuntimeWarning: Mean of empty slice\n",
      "  return np.nanmean(a, axis, out=out, keepdims=keepdims)\n",
      "/Users/ineslaranjeira/Documents/Repositories/paper-data-architecture/random_forest_functions.py:394: RuntimeWarning: Mean of empty slice\n",
      "  'performance_easy'])\n",
      "/anaconda3/envs/iblenv/lib/python3.7/site-packages/numpy/lib/nanfunctions.py:1113: RuntimeWarning: Mean of empty slice\n",
      "  return np.nanmean(a, axis, out=out, keepdims=keepdims)\n",
      "/anaconda3/envs/iblenv/lib/python3.7/site-packages/numpy/lib/nanfunctions.py:1116: RuntimeWarning: All-NaN slice encountered\n",
      "  overwrite_input=overwrite_input)\n",
      "/anaconda3/envs/iblenv/lib/python3.7/site-packages/numpy/lib/nanfunctions.py:1116: RuntimeWarning: All-NaN slice encountered\n",
      "  overwrite_input=overwrite_input)\n",
      "/Users/ineslaranjeira/Documents/Repositories/paper-data-architecture/random_forest_functions.py:383: RuntimeWarning: Mean of empty slice\n",
      "  'performance_easy'])\n",
      "/anaconda3/envs/iblenv/lib/python3.7/site-packages/numpy/lib/nanfunctions.py:1113: RuntimeWarning: Mean of empty slice\n",
      "  return np.nanmean(a, axis, out=out, keepdims=keepdims)\n",
      "/Users/ineslaranjeira/Documents/Repositories/paper-data-architecture/random_forest_functions.py:394: RuntimeWarning: Mean of empty slice\n",
      "  'performance_easy'])\n",
      "/anaconda3/envs/iblenv/lib/python3.7/site-packages/numpy/lib/nanfunctions.py:1113: RuntimeWarning: Mean of empty slice\n",
      "  return np.nanmean(a, axis, out=out, keepdims=keepdims)\n",
      "/anaconda3/envs/iblenv/lib/python3.7/site-packages/numpy/lib/nanfunctions.py:1116: RuntimeWarning: All-NaN slice encountered\n",
      "  overwrite_input=overwrite_input)\n",
      "/anaconda3/envs/iblenv/lib/python3.7/site-packages/numpy/lib/nanfunctions.py:1116: RuntimeWarning: All-NaN slice encountered\n",
      "  overwrite_input=overwrite_input)\n",
      "/Users/ineslaranjeira/Documents/Repositories/paper-data-architecture/random_forest_functions.py:392: RuntimeWarning: Mean of empty slice\n",
      "  session, 'performance_easy']) - np.nanmean(\n",
      "/anaconda3/envs/iblenv/lib/python3.7/site-packages/numpy/lib/nanfunctions.py:1113: RuntimeWarning: Mean of empty slice\n",
      "  return np.nanmean(a, axis, out=out, keepdims=keepdims)\n",
      "/anaconda3/envs/iblenv/lib/python3.7/site-packages/numpy/lib/nanfunctions.py:1116: RuntimeWarning: All-NaN slice encountered\n",
      "  overwrite_input=overwrite_input)\n",
      "/anaconda3/envs/iblenv/lib/python3.7/site-packages/numpy/lib/nanfunctions.py:1116: RuntimeWarning: All-NaN slice encountered\n",
      "  overwrite_input=overwrite_input)\n",
      "/anaconda3/envs/iblenv/lib/python3.7/site-packages/numpy/lib/nanfunctions.py:1116: RuntimeWarning: All-NaN slice encountered\n",
      "  overwrite_input=overwrite_input)\n",
      "/anaconda3/envs/iblenv/lib/python3.7/site-packages/numpy/lib/nanfunctions.py:1116: RuntimeWarning: All-NaN slice encountered\n",
      "  overwrite_input=overwrite_input)\n",
      "/anaconda3/envs/iblenv/lib/python3.7/site-packages/numpy/lib/nanfunctions.py:1116: RuntimeWarning: All-NaN slice encountered\n",
      "  overwrite_input=overwrite_input)\n",
      "/anaconda3/envs/iblenv/lib/python3.7/site-packages/numpy/lib/nanfunctions.py:1116: RuntimeWarning: All-NaN slice encountered\n",
      "  overwrite_input=overwrite_input)\n",
      "/anaconda3/envs/iblenv/lib/python3.7/site-packages/numpy/lib/nanfunctions.py:1116: RuntimeWarning: All-NaN slice encountered\n",
      "  overwrite_input=overwrite_input)\n",
      "/Users/ineslaranjeira/Documents/Repositories/paper-data-architecture/random_forest_functions.py:383: RuntimeWarning: Mean of empty slice\n",
      "  'performance_easy'])\n",
      "/anaconda3/envs/iblenv/lib/python3.7/site-packages/numpy/lib/nanfunctions.py:1113: RuntimeWarning: Mean of empty slice\n",
      "  return np.nanmean(a, axis, out=out, keepdims=keepdims)\n",
      "/Users/ineslaranjeira/Documents/Repositories/paper-data-architecture/random_forest_functions.py:394: RuntimeWarning: Mean of empty slice\n",
      "  'performance_easy'])\n",
      "/anaconda3/envs/iblenv/lib/python3.7/site-packages/numpy/lib/nanfunctions.py:1113: RuntimeWarning: Mean of empty slice\n",
      "  return np.nanmean(a, axis, out=out, keepdims=keepdims)\n",
      "/Users/ineslaranjeira/Documents/Repositories/paper-data-architecture/random_forest_functions.py:383: RuntimeWarning: Mean of empty slice\n",
      "  'performance_easy'])\n",
      "/anaconda3/envs/iblenv/lib/python3.7/site-packages/numpy/lib/nanfunctions.py:1113: RuntimeWarning: Mean of empty slice\n",
      "  return np.nanmean(a, axis, out=out, keepdims=keepdims)\n",
      "/Users/ineslaranjeira/Documents/Repositories/paper-data-architecture/random_forest_functions.py:394: RuntimeWarning: Mean of empty slice\n",
      "  'performance_easy'])\n",
      "/anaconda3/envs/iblenv/lib/python3.7/site-packages/numpy/lib/nanfunctions.py:1113: RuntimeWarning: Mean of empty slice\n",
      "  return np.nanmean(a, axis, out=out, keepdims=keepdims)\n",
      "/Users/ineslaranjeira/Documents/Repositories/paper-data-architecture/random_forest_functions.py:383: RuntimeWarning: Mean of empty slice\n",
      "  'performance_easy'])\n",
      "/anaconda3/envs/iblenv/lib/python3.7/site-packages/numpy/lib/nanfunctions.py:1113: RuntimeWarning: Mean of empty slice\n",
      "  return np.nanmean(a, axis, out=out, keepdims=keepdims)\n",
      "/Users/ineslaranjeira/Documents/Repositories/paper-data-architecture/random_forest_functions.py:394: RuntimeWarning: Mean of empty slice\n",
      "  'performance_easy'])\n",
      "/anaconda3/envs/iblenv/lib/python3.7/site-packages/numpy/lib/nanfunctions.py:1113: RuntimeWarning: Mean of empty slice\n",
      "  return np.nanmean(a, axis, out=out, keepdims=keepdims)\n",
      "/Users/ineslaranjeira/Documents/Repositories/paper-data-architecture/random_forest_functions.py:383: RuntimeWarning: Mean of empty slice\n",
      "  'performance_easy'])\n",
      "/anaconda3/envs/iblenv/lib/python3.7/site-packages/numpy/lib/nanfunctions.py:1113: RuntimeWarning: Mean of empty slice\n",
      "  return np.nanmean(a, axis, out=out, keepdims=keepdims)\n",
      "/Users/ineslaranjeira/Documents/Repositories/paper-data-architecture/random_forest_functions.py:394: RuntimeWarning: Mean of empty slice\n",
      "  'performance_easy'])\n",
      "/anaconda3/envs/iblenv/lib/python3.7/site-packages/numpy/lib/nanfunctions.py:1113: RuntimeWarning: Mean of empty slice\n",
      "  return np.nanmean(a, axis, out=out, keepdims=keepdims)\n"
     ]
    },
    {
     "name": "stderr",
     "output_type": "stream",
     "text": [
      "/Users/ineslaranjeira/Documents/Repositories/paper-data-architecture/random_forest_functions.py:383: RuntimeWarning: Mean of empty slice\n",
      "  'performance_easy'])\n",
      "/anaconda3/envs/iblenv/lib/python3.7/site-packages/numpy/lib/nanfunctions.py:1113: RuntimeWarning: Mean of empty slice\n",
      "  return np.nanmean(a, axis, out=out, keepdims=keepdims)\n",
      "/Users/ineslaranjeira/Documents/Repositories/paper-data-architecture/random_forest_functions.py:392: RuntimeWarning: Mean of empty slice\n",
      "  session, 'performance_easy']) - np.nanmean(\n",
      "/Users/ineslaranjeira/Documents/Repositories/paper-data-architecture/random_forest_functions.py:394: RuntimeWarning: Mean of empty slice\n",
      "  'performance_easy'])\n",
      "/anaconda3/envs/iblenv/lib/python3.7/site-packages/numpy/lib/nanfunctions.py:1113: RuntimeWarning: Mean of empty slice\n",
      "  return np.nanmean(a, axis, out=out, keepdims=keepdims)\n",
      "/anaconda3/envs/iblenv/lib/python3.7/site-packages/numpy/lib/nanfunctions.py:1113: RuntimeWarning: Mean of empty slice\n",
      "  return np.nanmean(a, axis, out=out, keepdims=keepdims)\n"
     ]
    }
   ],
   "source": [
    "\"\"\"\n",
    "DESIGN MATRIX\n",
    "\"\"\"\n",
    "matrix = design_matrix(trials, subjects, session=5) "
   ]
  },
  {
   "cell_type": "code",
   "execution_count": null,
   "metadata": {},
   "outputs": [],
   "source": [
    "matrix.dropna()"
   ]
  },
  {
   "cell_type": "code",
   "execution_count": null,
   "metadata": {},
   "outputs": [],
   "source": [
    "np.max(matrix['training_time'])"
   ]
  },
  {
   "cell_type": "code",
   "execution_count": null,
   "metadata": {},
   "outputs": [],
   "source": [
    "\"\"\"\n",
    "HISTOGRAM - include all mice used to calculate quartiles\n",
    "\"\"\"\n",
    "\n",
    "crit = matrix['training_time']\n",
    "quantiles = crit.quantile([.25, .5, .75])\n",
    "\n",
    "plt.figure(figsize=[4.5, 4])\n",
    "plt.xlabel(\"Time until 'trained' (sessions)\")\n",
    "plt.ylabel(\"Number of mice\")\n",
    "plt.xlim([0,60])\n",
    "plt.rc('font', size=12)\n",
    "sns.despine(top=True, right=True)\n",
    "points = sns.histplot(list(matrix['training_time'].dropna()), kde=False, color='black', edgecolor='k', alpha=0.05, linewidth=1) \n",
    "plt.vlines(quantiles[0.25], 0, 35, colors='k', linestyles='dashed')\n",
    "plt.vlines(quantiles[0.5], 0, 35, colors='k', linestyles='dashed')\n",
    "plt.vlines(quantiles[0.75], 0, 35, colors='k', linestyles='dashed')"
   ]
  },
  {
   "cell_type": "code",
   "execution_count": null,
   "metadata": {},
   "outputs": [],
   "source": [
    "\"\"\"\n",
    "PROCESS DESIGN MATRIX\n",
    "\"\"\"\n",
    "\n",
    "# --Remove NaNs and mouse column from design matrix\n",
    "\n",
    "mat = matrix.copy()\n",
    "var = 'quantile'\n",
    "\n",
    "mat = mat.drop(columns=['subject_nickname', 'subject_uuid', 'training_time'])\n",
    "mat = mat.dropna()\n",
    "\n",
    "mat1 = mat.copy() # Full classifier\n",
    "mat2 = mat1[['perf_delta1', var]] # Performance change classifier; get matrix from mat1, to make sure the same mice are included"
   ]
  },
  {
   "cell_type": "code",
   "execution_count": null,
   "metadata": {},
   "outputs": [],
   "source": [
    "\"\"\"\n",
    "RUN MODEL\n",
    "\"\"\"\n",
    "\n",
    "# Generate random states for each iteration with a fixed seed\n",
    "# Loop over iterations of random draws of mice\n",
    "\n",
    "iterations = 100\n",
    "model = RandomForestClassifier(random_state=0)\n",
    "matrices = [mat1, mat2]\n",
    "\n",
    "decoding_result = pd.DataFrame(columns=['matrix', 'iter', 'f1', 'confusion_matrix', \n",
    "    'f1_shuffle', 'confusion_matrix_shuffle'])\n",
    "permutation_df = pd.DataFrame(columns=np.append(mat[mat.columns.difference([var])].keys(), ['iter', 'repeat', 'matrix']))\n",
    "prediction_df = pd.DataFrame(columns=['matrix', 'iter', '1', '2', '3', '4'])\n",
    "\n",
    "\n",
    "for m, mt in enumerate(matrices):\n",
    "\n",
    "    # Determine minimum number of mice per quartile (N)\n",
    "    q_1 = matrices[m].loc[matrices[m][var] == 1]\n",
    "    q_2 = matrices[m].loc[matrices[m][var] == 2]\n",
    "    q_3 = matrices[m].loc[matrices[m][var] == 3]\n",
    "    q_4 = matrices[m].loc[matrices[m][var] == 4]\n",
    "    n_mice = np.min([len(q_1), len(q_2), len(q_3), len(q_4)])\n",
    "    labels = np.array(matrices[m][var])\n",
    "    shuffled_labels = np.random.shuffle(labels)\n",
    "    labels_nr = np.arange(labels.shape[0])\n",
    "\n",
    "    dec_result = pd.DataFrame(columns=['matrix', 'iter', 'f1', 'confusion_matrix', \n",
    "        'f1_shuffle', 'confusion_matrix_shuffle'])\n",
    "\n",
    "    for i in range(iterations):\n",
    "        if np.mod(i+1, 10) == 0:\n",
    "            print('Iteration %d of %d' % (i+1, iterations))   \n",
    "\n",
    "        # Randomly select N mice from each quartile to equalize classes\n",
    "        use_subject = np.empty(0, dtype=int)\n",
    "        for j, q in enumerate(np.unique(labels)):\n",
    "            use_subject = np.concatenate([use_subject, np.random.choice(labels_nr[labels == q],\n",
    "                                                                   n_mice, replace=False)])\n",
    "        # Decoding function with 10-fold cross validation\n",
    "        kf = KFold(n_splits=10, shuffle=False)\n",
    "        use_matrix = matrices[m]\n",
    "        use_mat = use_matrix.iloc[use_subject]\n",
    "\n",
    "        # -- ORIGINAL DATASET\n",
    "        y_pred = np.zeros(len(use_mat), dtype=int) \n",
    "        exog = use_mat[use_mat.columns.difference([var])]\n",
    "        endog = use_mat.loc[:, var]\n",
    "\n",
    "        for train_index, test_index in kf.split(use_mat):\n",
    "            model.fit(exog.iloc[train_index], endog.iloc[train_index].astype(int))\n",
    "            y_pred[test_index] = model.predict(exog.iloc[test_index])\n",
    "\n",
    "        # --Permutation scores\n",
    "        overall_model = model.fit(exog, endog.astype(int))\n",
    "        overall_permutation = permutation_importance(overall_model, exog, \n",
    "            endog.astype(int), n_repeats=10, random_state=0, scoring='f1_micro')\n",
    "        perm_df = pd.DataFrame([est for est in overall_permutation.importances.T],\n",
    "        columns=exog.keys())\n",
    "        perm_df['iter'] = i\n",
    "        perm_df['repeat'] = pd.Series(range(10))\n",
    "        perm_df['matrix'] = m\n",
    "        permutation_df = pd.concat([permutation_df, perm_df])\n",
    "\n",
    "        f1 = f1_score(endog.astype(int), y_pred.astype('int'), average='micro')\n",
    "        cm = confusion_matrix(endog.astype(int), y_pred.astype('int'), normalize='true')\n",
    "\n",
    "        pred_df = pd.DataFrame(columns=['matrix', 'iter', '1', '2', '3', '4'], index=[1])\n",
    "        pred_df['1'] = cm.ravel()[0] \n",
    "        pred_df['2'] = cm.ravel()[5]\n",
    "        pred_df['3'] = cm.ravel()[10]\n",
    "        pred_df['4'] = cm.ravel()[15] \n",
    "        pred_df['iter'] = i\n",
    "        pred_df['matrix'] = m\n",
    "        prediction_df = pd.concat([prediction_df, pred_df])\n",
    "\n",
    "        dec_result.loc[i, 'f1'] = f1\n",
    "        dec_result.loc[i, 'confusion_matrix'] = cm\n",
    "        dec_result.loc[i, 'matrix'] = m\n",
    "        dec_result.loc[i, 'iter'] = i\n",
    "\n",
    "        # -- SHUFFLED DATASET \n",
    "        shuffle_y_pred = np.zeros(len(use_mat), dtype=int) \n",
    "        shuffle_endog = endog.copy()\n",
    "        np.random.shuffle(shuffle_endog.values)\n",
    "\n",
    "        for train_index, test_index in kf.split(use_mat):\n",
    "            model.fit(exog.iloc[train_index], list(shuffle_endog.iloc[train_index].astype(int)))\n",
    "            shuffle_y_pred[test_index] = model.predict(exog.iloc[test_index])   \n",
    "\n",
    "        shuffle_f1 = f1_score(shuffle_endog.astype(int), shuffle_y_pred.astype('int'), average='micro')\n",
    "        shuffle_cm = confusion_matrix(shuffle_endog.astype(int), shuffle_y_pred.astype('int'), normalize='true')\n",
    "\n",
    "        # SAVE\n",
    "        dec_result.loc[i, 'f1_shuffle'] = shuffle_f1\n",
    "        dec_result.loc[i, 'confusion_matrix_shuffle'] = shuffle_cm\n",
    "\n",
    "    decoding_result = pd.concat([decoding_result, dec_result])"
   ]
  },
  {
   "cell_type": "code",
   "execution_count": 9,
   "metadata": {},
   "outputs": [
    {
     "data": {
      "image/png": "[encoded data removed]",
      "text/plain": [
       "<Figure size 324x252 with 2 Axes>"
      ]
     },
     "metadata": {
      "needs_background": "light"
     },
     "output_type": "display_data"
    },
    {
     "name": "stdout",
     "output_type": "stream",
     "text": [
      "F1 results 0.49445652173913063\n"
     ]
    },
    {
     "data": {
      "image/png": "[encoded data removed]",
      "text/plain": [
       "<Figure size 324x252 with 2 Axes>"
      ]
     },
     "metadata": {
      "needs_background": "light"
     },
     "output_type": "display_data"
    },
    {
     "name": "stdout",
     "output_type": "stream",
     "text": [
      "F1 shuffled results 0.24559782608695638\n"
     ]
    }
   ],
   "source": [
    "\"\"\"\n",
    "PLOT RESULTS\n",
    "\"\"\"\n",
    "\n",
    "# -- Confusion Matrix\n",
    "# Results on original model\n",
    "plt.rc('font', size=12) \n",
    "plt.figure(figsize=[4.5, 3.5])\n",
    "hmap = sns.color_palette(\"mako\", as_cmap=True)\n",
    "data = decoding_result.loc[decoding_result['matrix'] == 0]\n",
    "sns.heatmap(data['confusion_matrix'].mean(), annot=False, \n",
    "    yticklabels=np.unique(labels.astype(int)), xticklabels=np.unique(labels.astype(int)), \n",
    "    cmap= hmap, vmin=0, vmax=1) \n",
    "plt.xlabel('Predicted quartile')\n",
    "plt.ylabel('True quartile')\n",
    "plt.show()\n",
    "print('F1 results', data['f1'].mean())\n",
    "\n",
    "# Results from shuffled model\n",
    "plt.rc('font', size=12) \n",
    "plt.figure(figsize=[4.5, 3.5])\n",
    "sns.heatmap(decoding_result['confusion_matrix_shuffle'].mean(), annot=False, \n",
    "    yticklabels=np.unique(labels), xticklabels=np.unique(labels), \n",
    "    cmap= hmap, vmin=0, vmax=1)\n",
    "plt.xlabel('Predicted quartile')\n",
    "plt.ylabel('True quartile')\n",
    "plt.show()\n",
    "print('F1 shuffled results',  decoding_result['f1_shuffle'].mean())"
   ]
  },
  {
   "cell_type": "code",
   "execution_count": 10,
   "metadata": {},
   "outputs": [
    {
     "name": "stderr",
     "output_type": "stream",
     "text": [
      "/anaconda3/envs/iblenv/lib/python3.7/site-packages/ipykernel_launcher.py:8: SettingWithCopyWarning: \n",
      "A value is trying to be set on a copy of a slice from a DataFrame.\n",
      "Try using .loc[row_indexer,col_indexer] = value instead\n",
      "\n",
      "See the caveats in the documentation: https://pandas.pydata.org/pandas-docs/stable/user_guide/indexing.html#returning-a-view-versus-a-copy\n",
      "  \n"
     ]
    },
    {
     "data": {
      "image/png": "[encoded data removed]",
      "text/plain": [
       "<Figure size 324x288 with 1 Axes>"
      ]
     },
     "metadata": {
      "needs_background": "light"
     },
     "output_type": "display_data"
    }
   ],
   "source": [
    "# -- F1 score per model, original and shuffled\n",
    "data = decoding_result.copy()\n",
    "data.loc[data['matrix'] == 0, 'matrix'] = 'Full model'\n",
    "data.loc[data['matrix'] == 1, 'matrix'] = 'Performance change model'\n",
    "data = data.rename(columns={'matrix': 'Model'})\n",
    "\n",
    "f1 = data[['f1', 'Model']]\n",
    "f1['Dataset'] = 'Original'\n",
    "f1_shuffle = data[['f1_shuffle', 'Model']]\n",
    "f1_shuffle = f1_shuffle.rename(columns={'f1_shuffle': 'f1'})\n",
    "f1_shuffle['Dataset'] = 'Shuffled'\n",
    "\n",
    "f1_scores = f1.append([f1_shuffle])\n",
    "\n",
    "plt.rc('font', size=12) \n",
    "plt.figure(figsize=[4.5, 4])\n",
    "f1_scores['f1'] = f1_scores['f1'].astype(float)\n",
    "sns.violinplot(x='Dataset', y='f1', hue='Model', data=f1_scores, color='grey')\n",
    "plt.ylim([0,1])\n",
    "plt.ylabel('Accuracy score (F1)')\n",
    "plt.legend(bbox_to_anchor=(1.05, 1))\n",
    "sns.despine(top=True, right=True)"
   ]
  },
  {
   "cell_type": "code",
   "execution_count": 13,
   "metadata": {},
   "outputs": [
    {
     "data": {
      "text/plain": [
       "Ttest_indResult(statistic=10.809212099811726, pvalue=1.0562931367104371e-21)"
      ]
     },
     "execution_count": 13,
     "metadata": {},
     "output_type": "execute_result"
    }
   ],
   "source": [
    "# -- Test for significance between Full and Performance change models\n",
    "a = list(data.loc[data['Model'] == 'Full model', 'f1'])\n",
    "b = list(data.loc[data['Model'] == 'Performance change model', 'f1'])\n",
    "stats.ttest_ind(a, b, axis=0, equal_var=True, nan_policy='propagate')"
   ]
  },
  {
   "cell_type": "code",
   "execution_count": 11,
   "metadata": {},
   "outputs": [
    {
     "data": {
      "text/plain": [
       "Ttest_indResult(statistic=16.10837942271357, pvalue=7.371856922030832e-38)"
      ]
     },
     "execution_count": 11,
     "metadata": {},
     "output_type": "execute_result"
    }
   ],
   "source": [
    "# -- Test for significance between Full and Performance change models\n",
    "a = list(data.loc[data['Model'] == 'Full model', 'f1'])\n",
    "b = list(data.loc[data['Model'] == 'Performance change model', 'f1'])\n",
    "stats.ttest_ind(a, b, axis=0, equal_var=True, nan_policy='propagate')"
   ]
  },
  {
   "cell_type": "code",
   "execution_count": 12,
   "metadata": {},
   "outputs": [
    {
     "data": {
      "text/plain": [
       "Text(0.5, 0, 'Permutation importances')"
      ]
     },
     "execution_count": 12,
     "metadata": {},
     "output_type": "execute_result"
    },
    {
     "data": {
      "image/png": "[encoded data removed]",
      "text/plain": [
       "<Figure size 1080x720 with 1 Axes>"
      ]
     },
     "metadata": {
      "needs_background": "light"
     },
     "output_type": "display_data"
    }
   ],
   "source": [
    "# -- Permutation tests for full model\n",
    "data = permutation_df.loc[permutation_df.matrix==0]\n",
    "\n",
    "data = data.rename(columns={'RT_delta1': 'RT change', 'RT_init': 'Starting RT',\n",
    "    'age_start': 'Age', 'air_pressure_mb': 'Air pressure', \n",
    "    'delta_variance': 'Variance in daily performance change', \n",
    "    'disp_norm': 'Wheel displacement bias', 'moves_time': 'Wheel moves per time',\n",
    "    'perf_init': 'Starting performance',\n",
    "    'relative_humidity': 'Relative humidity', 'sex': 'Sex', \n",
    "    'temperature_c': 'Temperature', 'trials_delta1': 'Trial count change', \n",
    "    'trials_init': 'Starting trial count', 'trials_sum': 'Total trial count',\n",
    "    'water_weight': 'Consumed water per body weight', \n",
    "    'weekend_water': 'Weekend water regime', 'weight_loss': 'Weight loss',\n",
    "    'light': 'Light cycle', 'food': 'Food protein content',\n",
    "    'weight_start': 'Starting weight', 'perf_delta1': 'Performance change'})\n",
    "\n",
    "var_names = data.keys()[0:-3]\n",
    "\n",
    "df = pd.melt(data, id_vars =['iter'], \n",
    "    value_vars = var_names)\n",
    "\n",
    "# Mean over each iteration\n",
    "data = pd.DataFrame(df.groupby(['iter', 'variable'])['value'].mean())\n",
    "data = data.reset_index(level=[0, 1])\n",
    "# Mean over all iterations\n",
    "data = df.copy()\n",
    "\n",
    "plot_order = data.groupby('variable')['value'].mean().sort_values(ascending=False).index.values\n",
    "plt.figure(figsize=[15,10])\n",
    "plt.rc('font', size=12) \n",
    "sns.barplot(y='variable', x='value', data=data, \n",
    "    order=plot_order, orient='h')\n",
    "plt.ylabel('Features')\n",
    "plt.xlabel('Permutation importances')"
   ]
  },
  {
   "cell_type": "code",
   "execution_count": null,
   "metadata": {},
   "outputs": [],
   "source": []
  }
 ],
 "metadata": {
  "kernelspec": {
   "display_name": "Python 3.7.7 64-bit ('iblenv': conda)",
   "language": "python",
   "name": "python37764bitiblenvcondad1bf9a4a8ba149378920b3db35f61327"
  },
  "language_info": {
   "codemirror_mode": {
    "name": "ipython",
    "version": 3
   },
   "file_extension": ".py",
   "mimetype": "text/x-python",
   "name": "python",
   "nbconvert_exporter": "python",
   "pygments_lexer": "ipython3",
   "version": "3.7.7"
  }
 },
 "nbformat": 4,
 "nbformat_minor": 2
}
